{
 "cells": [
  {
   "cell_type": "markdown",
   "source": [
    "# Computing the optimal statistic with enterprise\n",
    "\n",
    "* In this notebook you will learn how to compute the optimal statistic. \n",
    "* The optimal statistic is a frequentist detection statistic for the stochastic background. \n",
    "* It assesses the significance of the cross-correlations and compares them to the Hellings-Downs curve.\n",
    "\n",
    "* For more information, see [Anholm et al. 2009](https://arxiv.org/abs/0809.0701), [Demorest et al. 2013](https://arxiv.org/abs/1201.6641), [Chamberlin et al. 2015](https://arxiv.org/abs/1410.8256), [Vigeland et al. 2018](https://arxiv.org/abs/1805.12188).\n",
    "\n",
    "* This notebook shows you how to compute the optimal statistic for the 12.5yr data set."
   ],
   "metadata": {}
  },
  {
   "cell_type": "code",
   "execution_count": 1,
   "source": [
    "from __future__ import (absolute_import, division,\n",
    "                        print_function, unicode_literals)\n",
    "import numpy as np\n",
    "import pickle\n",
    "import json\n",
    "import glob\n",
    "import os\n",
    "\n",
    "import matplotlib.pyplot as plt\n",
    "%matplotlib inline\n",
    "\n",
    "from enterprise.signals import signal_base\n",
    "from enterprise.signals import gp_signals\n",
    "from enterprise.pulsar import Pulsar\n",
    "\n",
    "from enterprise_extensions import models\n",
    "from enterprise_extensions.frequentist import optimal_statistic as opt_stat\n",
    "\n",
    "import sys\n",
    "sys.path.append(\"..\")\n",
    "from settings import matplotsettings\n",
    "import matplotlib\n",
    "matplotsettings()"
   ],
   "outputs": [
    {
     "output_type": "stream",
     "name": "stderr",
     "text": [
      "WARNING: AstropyDeprecationWarning: The private astropy._erfa module has been made into its own package, pyerfa, which is a dependency of astropy and can be imported directly using \"import erfa\" [astropy._erfa]\n",
      "/Users/aaron/mambaforge/envs/enterprise/lib/python3.9/_collections_abc.py:940: MatplotlibDeprecationWarning: Support for setting the 'text.latex.preamble' or 'pgf.preamble' rcParam to a list of strings is deprecated since 3.3 and will be removed two minor releases later; set it to a single string instead.\n"
     ]
    }
   ],
   "metadata": {}
  },
  {
   "cell_type": "markdown",
   "source": [
    "## Load pulsar data"
   ],
   "metadata": {}
  },
  {
   "cell_type": "code",
   "execution_count": 2,
   "source": [
    "psrlist = None # define a list of pulsar name strings that can be used to filter.\n",
    "# set the data directory\n",
    "datadir = '../data'\n",
    "if not os.path.isdir(datadir):\n",
    "    datadir = '../../data'\n",
    "print(datadir)"
   ],
   "outputs": [
    {
     "output_type": "stream",
     "name": "stdout",
     "text": [
      "../../data\n"
     ]
    }
   ],
   "metadata": {}
  },
  {
   "cell_type": "code",
   "execution_count": 3,
   "source": [
    "# for the entire pta\n",
    "parfiles = sorted(glob.glob(datadir + '/par/*par'))\n",
    "timfiles = sorted(glob.glob(datadir + '/tim/*tim'))\n",
    "\n",
    "# filter\n",
    "if psrlist is not None:\n",
    "    parfiles = [x for x in parfiles if x.split('/')[-1].split('.')[0] in psrlist]\n",
    "    timfiles = [x for x in timfiles if x.split('/')[-1].split('.')[0] in psrlist]\n",
    "\n",
    "# Make sure you use the tempo2 parfile for J1713+0747!!\n",
    "# ...filtering out the tempo parfile... \n",
    "parfiles = [x for x in parfiles if 'J1713+0747_NANOGrav_12yv3.gls.par' not in x]"
   ],
   "outputs": [],
   "metadata": {}
  },
  {
   "cell_type": "code",
   "execution_count": 4,
   "source": [
    "# check for file and load pickle if it exists:\n",
    "pickle_loc = datadir + '/psrs.pkl'\n",
    "if os.path.exists(pickle_loc):\n",
    "    with open(pickle_loc, 'rb') as f:\n",
    "        psrs = pickle.load(f)\n",
    "\n",
    "# else: load them in slowly:\n",
    "else:\n",
    "    psrs = []\n",
    "    ephemeris = 'DE438'\n",
    "    for p, t in zip(parfiles, timfiles):\n",
    "        psr = Pulsar(p, t, ephem=ephemeris)\n",
    "        psrs.append(psr)"
   ],
   "outputs": [],
   "metadata": {}
  },
  {
   "cell_type": "code",
   "execution_count": 5,
   "source": [
    "## Get parameter noise dictionary\n",
    "noise_ng12 = datadir + '/channelized_12p5yr_v3_full_noisedict.json'\n",
    "\n",
    "params = {}\n",
    "with open(noise_ng12, 'r') as fp:\n",
    "    params.update(json.load(fp))"
   ],
   "outputs": [],
   "metadata": {}
  },
  {
   "cell_type": "markdown",
   "source": [
    "### Use `enterprise_extensions` to make a model with a common red process"
   ],
   "metadata": {}
  },
  {
   "cell_type": "code",
   "execution_count": 6,
   "source": [
    "# (Note: It will take a few minutes to run this cell and may require at least ~4GB RAM)\n",
    "pta = models.model_2a(psrs, noisedict=params, gamma_common=4.33, n_gwbfreqs=5)"
   ],
   "outputs": [],
   "metadata": {}
  },
  {
   "cell_type": "markdown",
   "source": [
    "### Initialize the optimal statistic object"
   ],
   "metadata": {}
  },
  {
   "cell_type": "code",
   "execution_count": 7,
   "source": [
    "ostat = opt_stat.OptimalStatistic(psrs, pta=pta, orf='hd')\n",
    "ostat_dip = opt_stat.OptimalStatistic(psrs, pta=pta, orf='dipole')\n",
    "ostat_mono = opt_stat.OptimalStatistic(psrs, pta=pta, orf='monopole')"
   ],
   "outputs": [],
   "metadata": {}
  },
  {
   "cell_type": "markdown",
   "source": [
    "## Load the maximum-likelihood values for the pulsars' red noise parameters and the common red process\n",
    "* These values come from the results of a Bayesian search (model 2A)\n",
    "* Once you have done your own Bayesian search, you can make your own parameter dictionary of maximum-likelihood values"
   ],
   "metadata": {}
  },
  {
   "cell_type": "code",
   "execution_count": 8,
   "source": [
    "with open(datadir + '/12p5yr_maxlike.json', 'r') as f:\n",
    "    ml_params = json.load(f)"
   ],
   "outputs": [],
   "metadata": {}
  },
  {
   "cell_type": "markdown",
   "source": [
    "## Optimal statistics with maximum likelihood noise parameters\n",
    "* The optimal statistic returns five quantities:\n",
    "  - xi: an array of the angular separations between the pulsar pairs (in radians)\n",
    "  - rho: an array of the cross-correlations between the pulsar pairs\n",
    "  - sig: an array of the uncertainty in the cross-correlations\n",
    "  - OS: the value of the optimal statistic\n",
    "  - OS_sig: the uncertainty in the optimal statistic\n",
    " "
   ],
   "metadata": {}
  },
  {
   "cell_type": "code",
   "execution_count": 9,
   "source": [
    "xi, rho, sig, OS, OS_sig = ostat.compute_os(params=ml_params)\n",
    "print(OS, OS_sig, OS/OS_sig)\n",
    "\n",
    "_, _, _, OS_dip, OS_sig_dip = ostat_dip.compute_os(params=ml_params)\n",
    "print(OS_dip, OS_sig_dip, OS_dip/OS_sig_dip)\n",
    "\n",
    "_, _, _, OS_mono, OS_sig_mono = ostat_mono.compute_os(params=ml_params)\n",
    "print(OS_mono, OS_sig_mono, OS_mono/OS_sig_mono)"
   ],
   "outputs": [
    {
     "output_type": "stream",
     "name": "stdout",
     "text": [
      "4.1345561963292684e-30 1.5391035963642577e-30 2.6863404166529854\n",
      "9.213606110752142e-31 4.027255164390919e-31 2.2878128488651663\n",
      "8.790768523004016e-31 2.749654101374046e-31 3.1970452278383408\n"
     ]
    }
   ],
   "metadata": {}
  },
  {
   "cell_type": "markdown",
   "source": [
    "### Plot the cross-correlations and compare to the Hellings-Downs curve"
   ],
   "metadata": {}
  },
  {
   "cell_type": "code",
   "execution_count": 10,
   "source": [
    "def get_HD_curve(zeta):\n",
    "    \n",
    "    coszeta = np.cos(zeta*np.pi/180.)\n",
    "    xip = (1.-coszeta) / 2.\n",
    "    HD = 3.*( 1./3. + xip * ( np.log(xip) -1./6.) )\n",
    "    \n",
    "    return HD/2\n",
    "\n",
    "## Before plotting, we need to bin the cross-correlations\n",
    "\n",
    "def weightedavg(rho, sig):\n",
    "    weights, avg = 0., 0.\n",
    "    for r,s in zip(rho,sig):\n",
    "        weights += 1./(s*s)\n",
    "        avg += r/(s*s)\n",
    "        \n",
    "    return avg/weights, np.sqrt(1./weights)\n",
    "\n",
    "def bin_crosscorr(zeta, xi, rho, sig):\n",
    "\n",
    "    rho_avg, sig_avg = np.zeros(len(zeta)), np.zeros(len(zeta))\n",
    "\n",
    "    for i,z in enumerate(zeta[:-1]):\n",
    "        myrhos, mysigs = [], []\n",
    "        for x,r,s in zip(xi,rho,sig):\n",
    "            if x >= z and x < (z+10.):\n",
    "                myrhos.append(r)\n",
    "                mysigs.append(s)\n",
    "        rho_avg[i], sig_avg[i] = weightedavg(myrhos, mysigs)\n",
    "        \n",
    "    return rho_avg, sig_avg\n",
    "\n",
    "# sort the cross-correlations by xi\n",
    "idx = np.argsort(xi)\n",
    "\n",
    "xi_sorted = xi[idx]\n",
    "rho_sorted = rho[idx]\n",
    "sig_sorted = sig[idx]\n",
    "\n",
    "# bin the cross-correlations so that there are the same number of pairs per bin\n",
    "npairs = 66\n",
    "\n",
    "xi_mean = []\n",
    "xi_err = []\n",
    "\n",
    "rho_avg = []\n",
    "sig_avg = []\n",
    "\n",
    "i = 0\n",
    "while i < len(xi_sorted):\n",
    "    \n",
    "    xi_mean.append(np.mean(xi_sorted[i:npairs+i]))\n",
    "    xi_err.append(np.std(xi_sorted[i:npairs+i]))\n",
    "\n",
    "    r, s = weightedavg(rho_sorted[i:npairs+i], sig_sorted[i:npairs+i])\n",
    "    rho_avg.append(r)\n",
    "    sig_avg.append(s)\n",
    "    \n",
    "    i += npairs\n",
    "    \n",
    "xi_mean = np.array(xi_mean)\n",
    "xi_err = np.array(xi_err)"
   ],
   "outputs": [],
   "metadata": {}
  },
  {
   "cell_type": "markdown",
   "source": [
    "## Reproduce the bottom panel of Figure 5 in [https://arxiv.org/abs/2009.04496](https://arxiv.org/abs/2009.04496)"
   ],
   "metadata": {}
  },
  {
   "cell_type": "code",
   "execution_count": 11,
   "source": [
    "# reproduce the bottom panel of Figure 5 in https://arxiv.org/abs/2009.04496\n",
    "plt.figure(figsize=(8, 4))\n",
    "(_, caps, _) = plt.errorbar(xi_mean*180/np.pi, rho_avg, xerr=xi_err*180/np.pi, yerr=sig_avg, marker='o', ls='', \n",
    "                            color='0.1', capsize=4, elinewidth=1.2)\n",
    "\n",
    "zeta = np.linspace(0.01,180,100)\n",
    "HD = get_HD_curve(zeta+1)\n",
    "\n",
    "plt.plot(zeta, OS*HD, ls='--', label='Hellings-Downs', color='C0', lw=1.5)\n",
    "plt.plot(zeta, zeta*0.0+OS_mono, ls='--', label='Monopole', color='C1', lw=1.5)\n",
    "plt.plot(zeta, OS_dip*np.cos(zeta*np.pi/180), ls='--', label='Dipole', color='C2', lw=1.5)\n",
    "\n",
    "plt.xlim(0, 180);\n",
    "plt.ylim(-3.5e-30, 3.5e-30);\n",
    "plt.ylabel(r'$\\hat{A}^2 \\Gamma_{ab}(\\zeta)$')\n",
    "plt.xlabel(r'$\\zeta$ (deg)');\n",
    "\n",
    "plt.legend(loc=4);\n",
    "\n",
    "plt.tight_layout();\n",
    "plt.show();"
   ],
   "outputs": [
    {
     "output_type": "display_data",
     "data": {
      "image/png": "[encoded data removed]",
      "text/plain": [
       "<Figure size 800x400 with 1 Axes>"
      ]
     },
     "metadata": {}
    }
   ],
   "metadata": {}
  },
  {
   "cell_type": "markdown",
   "source": [
    "## Noise marginalized optimal statistics\n",
    "* To compute the noise-marginalized optimal statistic (Vigeland et al. 2018), you will need the chain from a Bayesian search for a common red process without spatial correlations (model 2A).\n",
    "* NOTE: This file requires the \"model_2a, 5 frequency power law, fixed spectral index (gamma=4.33)\" chain from `download_full_chains.ipynb`"
   ],
   "metadata": {}
  },
  {
   "cell_type": "markdown",
   "source": [
    "### Load the samples from a Bayesian run"
   ],
   "metadata": {}
  },
  {
   "cell_type": "code",
   "execution_count": 12,
   "source": [
    "# (Note: It will take a minute to run this cell)\n",
    "\n",
    "chain = np.loadtxt('../../chains/downloaded_chains/12p5yr_DE438_model2a_cRN5freq_gammaFixed4.33_chain.gz')\n",
    "params = np.loadtxt('../../chains/downloaded_chains/12p5yr_DE438_model2a_cRN5freq_gammaFixed4.33_pars.txt', dtype=str)"
   ],
   "outputs": [],
   "metadata": {}
  },
  {
   "cell_type": "markdown",
   "source": [
    "### Take the median values from the chains and dump them into a `json` file"
   ],
   "metadata": {}
  },
  {
   "cell_type": "code",
   "execution_count": 14,
   "source": [
    "param_dict = {}\n",
    "params = list(params)\n",
    "for p in params:\n",
    "    param_dict.update({p: np.median(chain[:, params.index(p)])})\n",
    "\n",
    "with open('../../data/12p5yr_median.json', 'w') as f:\n",
    "    json.dump(param_dict, f)"
   ],
   "outputs": [],
   "metadata": {}
  },
  {
   "cell_type": "code",
   "execution_count": 15,
   "source": [
    "# (Note: It may take a few minutes to run this cell)\n",
    "N = 1000   # number of times to compute the optimal statistic - official analysis used 10k - you can increase this if you don't mind the extra runtime\n",
    "burn = int(0.25*chain.shape[0])   # estimate of when the chain has burned in\n",
    "\n",
    "noisemarg_OS, noisemarg_OS_err = np.zeros(N), np.zeros(N)\n",
    "noisemarg_OS_dip, noisemarg_OS_dip_err = np.zeros(N), np.zeros(N)\n",
    "noisemarg_OS_mono, noisemarg_OS_mono_err = np.zeros(N), np.zeros(N)\n",
    "\n",
    "for i in range(N):\n",
    "    if i%100==0:\n",
    "        print(\"Status: \", i, \"/\", N, \" -- \", i/N*100, \" %\")\n",
    "    # choose a set of noise values from the chain\n",
    "    # make sure that you pull values from after the chain has burned in\n",
    "    idx = np.random.randint(burn, chain.shape[0])\n",
    "    \n",
    "    # construct a dictionary with these parameter values\n",
    "    param_dict = {}\n",
    "    for p in params:\n",
    "        param_dict.update({p: chain[idx, params.index(p)]})\n",
    "    \n",
    "    # compute the optimal statistic at this set of noise values and save in an array\n",
    "    _, _, _, noisemarg_OS[i], noisemarg_OS_err[i] = ostat.compute_os(params=param_dict)\n",
    "    _, _, _, noisemarg_OS_dip[i], noisemarg_OS_dip_err[i] = ostat_dip.compute_os(params=param_dict)\n",
    "    _, _, _, noisemarg_OS_mono[i], noisemarg_OS_mono_err[i] = ostat_mono.compute_os(params=param_dict)"
   ],
   "outputs": [
    {
     "output_type": "stream",
     "name": "stdout",
     "text": [
      "Status:  0 / 1000  --  0.0  %\n",
      "Status:  100 / 1000  --  10.0  %\n",
      "Status:  200 / 1000  --  20.0  %\n",
      "Status:  300 / 1000  --  30.0  %\n",
      "Status:  400 / 1000  --  40.0  %\n",
      "Status:  500 / 1000  --  50.0  %\n",
      "Status:  600 / 1000  --  60.0  %\n",
      "Status:  700 / 1000  --  70.0  %\n",
      "Status:  800 / 1000  --  80.0  %\n",
      "Status:  900 / 1000  --  90.0  %\n"
     ]
    }
   ],
   "metadata": {}
  },
  {
   "cell_type": "markdown",
   "source": [
    "## Reproduce Figure 4 (bottom panel) from [https://arxiv.org/abs/2009.04496](https://arxiv.org/abs/2009.04496)"
   ],
   "metadata": {}
  },
  {
   "cell_type": "code",
   "execution_count": 22,
   "source": [
    "plt.figure(figsize=(8, 4))\n",
    "\n",
    "plt.hist(noisemarg_OS/noisemarg_OS_err, histtype='step', lw=2, label='Hellings-Downs', color='C0',\n",
    "         bins=20, density=True)\n",
    "plt.hist(noisemarg_OS_mono/noisemarg_OS_mono_err, histtype='step', lw=2, label='Monopole', color='C1',\n",
    "         bins=20, density=True)\n",
    "plt.hist(noisemarg_OS_dip/noisemarg_OS_dip_err, histtype='step', lw=2, label='Dipole', color='C2',\n",
    "         bins=20, density=True)\n",
    "\n",
    "# plt.gca().axvline(x=np.mean(noisemarg_OS/noisemarg_OS_err), ls='--', color='C0')\n",
    "# plt.gca().axvline(x=np.mean(noisemarg_OS_mono/noisemarg_OS_mono_err), ls='--', color='C1')\n",
    "# plt.gca().axvline(x=np.mean(noisemarg_OS_dip/noisemarg_OS_dip_err), ls='--', color='C2')\n",
    "\n",
    "# plt.gca().axvline(x=OS/OS_sig, ls=':', color='C0')\n",
    "# plt.gca().axvline(x=OS_mono/OS_sig_mono, ls=':', color='C1')\n",
    "# plt.gca().axvline(x=OS_dip/OS_sig_dip, ls=':', color='C2')\n",
    "\n",
    "plt.legend(loc=\"upper right\")\n",
    "plt.xlabel(\"S/N\")\n",
    "plt.ylabel(\"PDF\")\n",
    "\n",
    "plt.show()"
   ],
   "outputs": [
    {
     "output_type": "display_data",
     "data": {
      "image/png": "[encoded data removed]",
      "text/plain": [
       "<Figure size 800x400 with 1 Axes>"
      ]
     },
     "metadata": {}
    }
   ],
   "metadata": {}
  },
  {
   "cell_type": "markdown",
   "source": [
    "## Reproduce Figure 4 (top panel) from [https://arxiv.org/abs/2009.04496](https://arxiv.org/abs/2009.04496)"
   ],
   "metadata": {}
  },
  {
   "cell_type": "code",
   "execution_count": 23,
   "source": [
    "plt.figure(figsize=(8, 4))\n",
    "\n",
    "plt.hist(noisemarg_OS, histtype='step', lw=2, label='Hellings-Downs', color='C0', bins=20, density=True)\n",
    "plt.hist(noisemarg_OS_mono, histtype='step', lw=2, label='Monopole', color='C1', bins=20, density=True)\n",
    "plt.hist(noisemarg_OS_dip, histtype='step', lw=2, label='Dipole', color='C2', bins=20, density=True)\n",
    "plt.hist((10**(chain[:,params.index(\"gw_log10_A\")]))**2, histtype='step', lw=2, label='Uncorrelated common process',\n",
    "         color='grey', ls='--', bins=50, density=True)\n",
    "\n",
    "# plt.gca().axvline(x=np.mean(noisemarg_OS), ls='--', color='C0')\n",
    "# plt.gca().axvline(x=np.mean(noisemarg_OS_mono), ls='--', color='C1')\n",
    "# plt.gca().axvline(x=np.mean(noisemarg_OS_dip), ls='--', color='C2')\n",
    "# plt.gca().axvline(x=np.mean(10**(2*chain[:,params.index(\"gw_log10_A\")])), ls='--', color='grey')\n",
    "\n",
    "# plt.gca().axvline(x=OS, ls=':', color='C0')\n",
    "# plt.gca().axvline(x=OS_mono, ls=':', color='C1')\n",
    "# plt.gca().axvline(x=OS_dip, ls=':', color='C2')\n",
    "\n",
    "plt.xlim((-1e-30, 9e-30))\n",
    "plt.legend(loc=\"upper right\")\n",
    "plt.xlabel(r'$\\hat{A}^2$ and $A^2_{\\rm CP}$')\n",
    "plt.ylabel(\"PDF\")\n",
    "\n",
    "plt.show()"
   ],
   "outputs": [
    {
     "output_type": "display_data",
     "data": {
      "image/png": "[encoded data removed]",
      "text/plain": [
       "<Figure size 800x400 with 1 Axes>"
      ]
     },
     "metadata": {}
    }
   ],
   "metadata": {}
  },
  {
   "cell_type": "markdown",
   "source": [
    "## Remarks\n",
    "* The monopole correlation shows a large SNR compared to the other two correlations\n",
    "* However, only the amplitude of the HD correlation is consistent with the Bayesian samples\n",
    "* Both monopole and dipole correlations are disfavored from figure 3."
   ],
   "metadata": {}
  },
  {
   "cell_type": "code",
   "execution_count": null,
   "source": [],
   "outputs": [],
   "metadata": {}
  }
 ],
 "metadata": {
  "orig_nbformat": 4,
  "language_info": {
   "name": "python",
   "version": "3.9.6",
   "mimetype": "text/x-python",
   "codemirror_mode": {
    "name": "ipython",
    "version": 3
   },
   "pygments_lexer": "ipython3",
   "nbconvert_exporter": "python",
   "file_extension": ".py"
  },
  "kernelspec": {
   "name": "python3",
   "display_name": "Python 3.9.6 64-bit ('enterprise': conda)"
  },
  "interpreter": {
   "hash": "4e8aafc87392023be83577fd457f6b0c91f9d6d2cf4e357821620907be4e7f3b"
  }
 },
 "nbformat": 4,
 "nbformat_minor": 2
}