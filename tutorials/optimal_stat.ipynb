{
 "cells": [
  {
   "attachments": {},
   "cell_type": "markdown",
   "metadata": {},
   "source": [
    "# Computing the optimal statistic with `enterprise`\n",
    "\n",
    "* In this notebook you will learn how to compute the optimal statistic. \n",
    "* The optimal statistic is a frequentist detection statistic for the stochastic background. \n",
    "* It assesses the significance of the cross-correlations and compares them to the Hellings-Downs curve.\n",
    "\n",
    "* For more information, see [Anholm et al. 2009](https://arxiv.org/abs/0809.0701), [Demorest et al. 2013](https://arxiv.org/abs/1201.6641), [Chamberlin et al. 2015](https://arxiv.org/abs/1410.8256), [Vigeland et al. 2018](https://arxiv.org/abs/1805.12188).\n",
    "\n",
    "* This notebook shows you how to compute the optimal statistic for the 12.5yr data set."
   ]
  },
  {
   "cell_type": "code",
   "execution_count": 1,
   "metadata": {},
   "outputs": [
    {
     "name": "stderr",
     "output_type": "stream",
     "text": [
      "WARNING: AstropyDeprecationWarning: The private astropy._erfa module has been made into its own package, pyerfa, which is a dependency of astropy and can be imported directly using \"import erfa\" [astropy._erfa]\n"
     ]
    }
   ],
   "source": [
    "import numpy as np\n",
    "import json\n",
    "\n",
    "import matplotlib.pyplot as plt\n",
    "%matplotlib inline\n",
    "\n",
    "from enterprise_extensions import models\n",
    "from enterprise_extensions.frequentist import optimal_statistic as opt_stat\n",
    "\n",
    "from settings import matplotsettings, load_pulsars\n",
    "matplotsettings()\n",
    "\n",
    "import sys\n",
    "IN_COLAB = 'google.colab' in sys.modules"
   ]
  },
  {
   "cell_type": "markdown",
   "metadata": {},
   "source": [
    "## Load pulsar data"
   ]
  },
  {
   "cell_type": "code",
   "execution_count": 2,
   "metadata": {},
   "outputs": [],
   "source": [
    "if IN_COLAB:\n",
    "    datadir = '/content/12p5yr_stochastic_analysis/tutorials/data'\n",
    "else:\n",
    "    datadir = './data'"
   ]
  },
  {
   "cell_type": "code",
   "execution_count": 3,
   "metadata": {},
   "outputs": [],
   "source": [
    "# load the pulsars (picking PINT or TEMPO2 timing packages and the ephemeris)\n",
    "# set save = True to save a pickle and reduce load times significantly (at the cost of 1.8GB of space.)\n",
    "psrs = load_pulsars(datadir, PINT=False, ephemeris='DE438', save=False)"
   ]
  },
  {
   "cell_type": "code",
   "execution_count": 4,
   "metadata": {},
   "outputs": [],
   "source": [
    "## Get parameter noise dictionary\n",
    "noise_ng12 = datadir + '/channelized_12p5yr_v3_full_noisedict.json'\n",
    "\n",
    "params = {}\n",
    "with open(noise_ng12, 'r') as fp:\n",
    "    params.update(json.load(fp))"
   ]
  },
  {
   "cell_type": "markdown",
   "metadata": {},
   "source": [
    "### Use `enterprise_extensions` to make a model with a common red process"
   ]
  },
  {
   "cell_type": "code",
   "execution_count": 5,
   "metadata": {},
   "outputs": [],
   "source": [
    "# (Note: It will take a few minutes to run this cell and may require at least ~4GB RAM)\n",
    "# This will NOT work if we use tm_marg=True, so we don't use it here.\n",
    "pta = models.model_2a(psrs, noisedict=params, gamma_common=4.33, n_gwbfreqs=5, tnequad=True, tm_svd=True)"
   ]
  },
  {
   "cell_type": "markdown",
   "metadata": {},
   "source": [
    "### Initialize the optimal statistic object"
   ]
  },
  {
   "cell_type": "code",
   "execution_count": 6,
   "metadata": {},
   "outputs": [],
   "source": [
    "ostat = opt_stat.OptimalStatistic(psrs, pta=pta, orf='hd')\n",
    "ostat_dip = opt_stat.OptimalStatistic(psrs, pta=pta, orf='dipole')\n",
    "ostat_mono = opt_stat.OptimalStatistic(psrs, pta=pta, orf='monopole')"
   ]
  },
  {
   "cell_type": "markdown",
   "metadata": {},
   "source": [
    "## Load the maximum-likelihood values for the pulsars' red noise parameters and the common red process\n",
    "* These values come from the results of a Bayesian search (model 2A)\n",
    "* Once you have done your own Bayesian search, you can make your own parameter dictionary of maximum-likelihood values"
   ]
  },
  {
   "cell_type": "code",
   "execution_count": 7,
   "metadata": {},
   "outputs": [],
   "source": [
    "with open(datadir + '/12p5yr_maxlike.json', 'r') as f:\n",
    "    ml_params = json.load(f)"
   ]
  },
  {
   "cell_type": "markdown",
   "metadata": {},
   "source": [
    "## Optimal statistics with maximum likelihood noise parameters\n",
    "* The optimal statistic returns five quantities:\n",
    "  - xi: an array of the angular separations between the pulsar pairs (in radians)\n",
    "  - rho: an array of the cross-correlations between the pulsar pairs\n",
    "  - sig: an array of the uncertainty in the cross-correlations\n",
    "  - OS: the value of the optimal statistic\n",
    "  - OS_sig: the uncertainty in the optimal statistic\n",
    " "
   ]
  },
  {
   "cell_type": "code",
   "execution_count": 8,
   "metadata": {},
   "outputs": [
    {
     "name": "stdout",
     "output_type": "stream",
     "text": [
      "4.1444420359885124e-30 1.5391035685415692e-30 2.6927635805014227\n",
      "9.19091235170906e-31 4.027255069761986e-31 2.2821778587399604\n",
      "8.766408092234487e-31 2.7496540387976453e-31 3.1881858475795077\n"
     ]
    }
   ],
   "source": [
    "xi, rho, sig, OS, OS_sig = ostat.compute_os(params=ml_params)\n",
    "print(OS, OS_sig, OS/OS_sig)\n",
    "\n",
    "_, _, _, OS_dip, OS_sig_dip = ostat_dip.compute_os(params=ml_params)\n",
    "print(OS_dip, OS_sig_dip, OS_dip/OS_sig_dip)\n",
    "\n",
    "_, _, _, OS_mono, OS_sig_mono = ostat_mono.compute_os(params=ml_params)\n",
    "print(OS_mono, OS_sig_mono, OS_mono/OS_sig_mono)"
   ]
  },
  {
   "cell_type": "markdown",
   "metadata": {},
   "source": [
    "### Plot the cross-correlations and compare to the Hellings-Downs curve"
   ]
  },
  {
   "cell_type": "code",
   "execution_count": 9,
   "metadata": {},
   "outputs": [],
   "source": [
    "def get_HD_curve(zeta):\n",
    "    \n",
    "    coszeta = np.cos(zeta*np.pi/180.)\n",
    "    xip = (1.-coszeta) / 2.\n",
    "    HD = 3.*( 1./3. + xip * ( np.log(xip) -1./6.) )\n",
    "    \n",
    "    return HD/2\n",
    "\n",
    "## Before plotting, we need to bin the cross-correlations\n",
    "\n",
    "def weightedavg(rho, sig):\n",
    "    weights, avg = 0., 0.\n",
    "    for r,s in zip(rho,sig):\n",
    "        weights += 1./(s*s)\n",
    "        avg += r/(s*s)\n",
    "        \n",
    "    return avg/weights, np.sqrt(1./weights)\n",
    "\n",
    "def bin_crosscorr(zeta, xi, rho, sig):\n",
    "\n",
    "    rho_avg, sig_avg = np.zeros(len(zeta)), np.zeros(len(zeta))\n",
    "\n",
    "    for i,z in enumerate(zeta[:-1]):\n",
    "        myrhos, mysigs = [], []\n",
    "        for x,r,s in zip(xi,rho,sig):\n",
    "            if x >= z and x < (z+10.):\n",
    "                myrhos.append(r)\n",
    "                mysigs.append(s)\n",
    "        rho_avg[i], sig_avg[i] = weightedavg(myrhos, mysigs)\n",
    "        \n",
    "    return rho_avg, sig_avg\n",
    "\n",
    "# sort the cross-correlations by xi\n",
    "idx = np.argsort(xi)\n",
    "\n",
    "xi_sorted = xi[idx]\n",
    "rho_sorted = rho[idx]\n",
    "sig_sorted = sig[idx]\n",
    "\n",
    "# bin the cross-correlations so that there are the same number of pairs per bin\n",
    "npairs = 66\n",
    "\n",
    "xi_mean = []\n",
    "xi_err = []\n",
    "\n",
    "rho_avg = []\n",
    "sig_avg = []\n",
    "\n",
    "i = 0\n",
    "while i < len(xi_sorted):\n",
    "    \n",
    "    xi_mean.append(np.mean(xi_sorted[i:npairs+i]))\n",
    "    xi_err.append(np.std(xi_sorted[i:npairs+i]))\n",
    "\n",
    "    r, s = weightedavg(rho_sorted[i:npairs+i], sig_sorted[i:npairs+i])\n",
    "    rho_avg.append(r)\n",
    "    sig_avg.append(s)\n",
    "    \n",
    "    i += npairs\n",
    "    \n",
    "xi_mean = np.array(xi_mean)\n",
    "xi_err = np.array(xi_err)"
   ]
  },
  {
   "cell_type": "markdown",
   "metadata": {},
   "source": [
    "## Reproduce the bottom panel of Figure 5 in [https://arxiv.org/abs/2009.04496](https://arxiv.org/abs/2009.04496)"
   ]
  },
  {
   "cell_type": "code",
   "execution_count": 10,
   "metadata": {},
   "outputs": [
    {
     "data": {
      "image/png": "[encoded data removed]",
      "text/plain": [
       "<Figure size 800x400 with 1 Axes>"
      ]
     },
     "metadata": {},
     "output_type": "display_data"
    }
   ],
   "source": [
    "# reproduce the bottom panel of Figure 5 in https://arxiv.org/abs/2009.04496\n",
    "plt.figure(figsize=(8, 4))\n",
    "(_, caps, _) = plt.errorbar(xi_mean*180/np.pi, rho_avg, xerr=xi_err*180/np.pi, yerr=sig_avg, marker='o', ls='', \n",
    "                            color='0.1', capsize=4, elinewidth=1.2)\n",
    "\n",
    "zeta = np.linspace(0.01,180,100)\n",
    "HD = get_HD_curve(zeta+1)\n",
    "\n",
    "plt.plot(zeta, OS*HD, ls='--', label='Hellings-Downs', color='C0', lw=1.5)\n",
    "plt.plot(zeta, zeta*0.0+OS_mono, ls='--', label='Monopole', color='C1', lw=1.5)\n",
    "plt.plot(zeta, OS_dip*np.cos(zeta*np.pi/180), ls='--', label='Dipole', color='C2', lw=1.5)\n",
    "\n",
    "plt.xlim(0, 180);\n",
    "plt.ylim(-3.5e-30, 3.5e-30);\n",
    "plt.ylabel(r'$\\hat{A}^2 \\Gamma_{ab}(\\zeta)$')\n",
    "plt.xlabel(r'$\\zeta$ (deg)');\n",
    "\n",
    "plt.legend(loc=4);\n",
    "\n",
    "plt.tight_layout();\n",
    "plt.show();"
   ]
  },
  {
   "cell_type": "markdown",
   "metadata": {},
   "source": [
    "## Noise marginalized optimal statistics\n",
    "* To compute the noise-marginalized optimal statistic (Vigeland et al. 2018), you will need the chain from a Bayesian search for a common red process without spatial correlations (model 2A).\n",
    "* NOTE: This file requires the \"model_2a, 5 frequency power law, fixed spectral index (gamma=4.33)\" chain from `download_full_chains.ipynb`"
   ]
  },
  {
   "cell_type": "markdown",
   "metadata": {},
   "source": [
    "### Download chains used below:"
   ]
  },
  {
   "cell_type": "code",
   "execution_count": 11,
   "metadata": {},
   "outputs": [],
   "source": [
    "import os\n",
    "if IN_COLAB:\n",
    "    dl_path = '/content/12p5yr_stochastic_analysis/chains/downloaded_chains/'\n",
    "else:\n",
    "    dl_path = './chains/downloaded_chains/'\n",
    "if not os.path.exists(dl_path):\n",
    "    os.makedirs(dl_path)"
   ]
  },
  {
   "cell_type": "code",
   "execution_count": 12,
   "metadata": {},
   "outputs": [
    {
     "name": "stdout",
     "output_type": "stream",
     "text": [
      "  % Total    % Received % Xferd  Average Speed   Time    Time     Time  Current\n",
      "                                 Dload  Upload   Total   Spent    Left  Speed\n",
      "100  2519  100  2519    0     0   2147      0  0:00:01  0:00:01 --:--:--  2147\n",
      "  % Total    % Received % Xferd  Average Speed   Time    Time     Time  Current\n",
      "                                 Dload  Upload   Total   Spent    Left  Speed\n",
      "100  177M  100  177M    0     0  4822k      0  0:00:37  0:00:37 --:--:-- 8637k\n"
     ]
    }
   ],
   "source": [
    "if IN_COLAB:\n",
    "    # download params\n",
    "    !curl https://data.nanograv.org/static/data/12p5yr_chains/12p5yr_DE438_model2a_cRN5freq_gammaFixed4.33_pars.txt -o /content/12p5yr_stochastic_analysis/chains/downloaded_chains/12p5yr_DE438_model2a_cRN5freq_gammaFixed4.33_pars.txt\n",
    "    # download chain\n",
    "    !curl https://data.nanograv.org/static/data/12p5yr_chains/12p5yr_DE438_model2a_cRN5freq_gammaFixed4.33_chain.gz -o /content/12p5yr_stochastic_analysis/chains/downloaded_chains/12p5yr_DE438_model2a_cRN5freq_gammaFixed4.33_chain.gz\n",
    "else:\n",
    "    # download params\n",
    "    !curl https://data.nanograv.org/static/data/12p5yr_chains/12p5yr_DE438_model2a_cRN5freq_gammaFixed4.33_pars.txt -o ./chains/downloaded_chains/12p5yr_DE438_model2a_cRN5freq_gammaFixed4.33_pars.txt\n",
    "    # download chain\n",
    "    !curl https://data.nanograv.org/static/data/12p5yr_chains/12p5yr_DE438_model2a_cRN5freq_gammaFixed4.33_chain.gz -o ./chains/downloaded_chains/12p5yr_DE438_model2a_cRN5freq_gammaFixed4.33_chain.gz"
   ]
  },
  {
   "cell_type": "markdown",
   "metadata": {},
   "source": [
    "### Load the samples from a Bayesian run"
   ]
  },
  {
   "cell_type": "code",
   "execution_count": 13,
   "metadata": {},
   "outputs": [],
   "source": [
    "# (Note: It will take a minute to run this cell)\n",
    "\n",
    "chain = np.loadtxt(dl_path + '/12p5yr_DE438_model2a_cRN5freq_gammaFixed4.33_chain.gz')\n",
    "params = np.loadtxt(dl_path + '/12p5yr_DE438_model2a_cRN5freq_gammaFixed4.33_pars.txt', dtype=str)"
   ]
  },
  {
   "cell_type": "markdown",
   "metadata": {},
   "source": [
    "### Take the median values from the chains and dump them into a `json` file"
   ]
  },
  {
   "cell_type": "code",
   "execution_count": 14,
   "metadata": {},
   "outputs": [],
   "source": [
    "param_dict = {}\n",
    "params = list(params)\n",
    "for p in params:\n",
    "    param_dict.update({p: np.median(chain[:, params.index(p)])})\n",
    "\n",
    "with open(datadir + '/12p5yr_median.json', 'w') as f:\n",
    "    json.dump(param_dict, f)"
   ]
  },
  {
   "cell_type": "code",
   "execution_count": 15,
   "metadata": {},
   "outputs": [
    {
     "name": "stdout",
     "output_type": "stream",
     "text": [
      "Status:  0 / 1000  --  0.0  %\n",
      "Status:  100 / 1000  --  10.0  %\n",
      "Status:  200 / 1000  --  20.0  %\n",
      "Status:  300 / 1000  --  30.0  %\n",
      "Status:  400 / 1000  --  40.0  %\n",
      "Status:  500 / 1000  --  50.0  %\n",
      "Status:  600 / 1000  --  60.0  %\n",
      "Status:  700 / 1000  --  70.0  %\n",
      "Status:  800 / 1000  --  80.0  %\n",
      "Status:  900 / 1000  --  90.0  %\n"
     ]
    }
   ],
   "source": [
    "# (Note: It may take a few minutes to run this cell)\n",
    "N = 1000   # number of times to compute the optimal statistic - official analysis used 10k - you can increase this if you don't mind the extra runtime\n",
    "burn = int(0.25*chain.shape[0])   # estimate of when the chain has burned in\n",
    "\n",
    "noisemarg_OS, noisemarg_OS_err = np.zeros(N), np.zeros(N)\n",
    "noisemarg_OS_dip, noisemarg_OS_dip_err = np.zeros(N), np.zeros(N)\n",
    "noisemarg_OS_mono, noisemarg_OS_mono_err = np.zeros(N), np.zeros(N)\n",
    "\n",
    "for i in range(N):\n",
    "    if i%100==0:\n",
    "        print(\"Status: \", i, \"/\", N, \" -- \", i/N*100, \" %\")\n",
    "    # choose a set of noise values from the chain\n",
    "    # make sure that you pull values from after the chain has burned in\n",
    "    idx = np.random.randint(burn, chain.shape[0])\n",
    "    \n",
    "    # construct a dictionary with these parameter values\n",
    "    param_dict = {}\n",
    "    for p in params:\n",
    "        param_dict.update({p: chain[idx, params.index(p)]})\n",
    "    \n",
    "    # compute the optimal statistic at this set of noise values and save in an array\n",
    "    _, _, _, noisemarg_OS[i], noisemarg_OS_err[i] = ostat.compute_os(params=param_dict)\n",
    "    _, _, _, noisemarg_OS_dip[i], noisemarg_OS_dip_err[i] = ostat_dip.compute_os(params=param_dict)\n",
    "    _, _, _, noisemarg_OS_mono[i], noisemarg_OS_mono_err[i] = ostat_mono.compute_os(params=param_dict)"
   ]
  },
  {
   "cell_type": "markdown",
   "metadata": {},
   "source": [
    "## Reproduce Figure 4 (bottom panel) from [https://arxiv.org/abs/2009.04496](https://arxiv.org/abs/2009.04496)"
   ]
  },
  {
   "cell_type": "code",
   "execution_count": 16,
   "metadata": {},
   "outputs": [
    {
     "data": {
      "image/png": "[encoded data removed]",
      "text/plain": [
       "<Figure size 800x400 with 1 Axes>"
      ]
     },
     "metadata": {},
     "output_type": "display_data"
    }
   ],
   "source": [
    "plt.figure(figsize=(8, 4))\n",
    "\n",
    "plt.hist(noisemarg_OS/noisemarg_OS_err, histtype='step', lw=2, label='Hellings-Downs', color='C0',\n",
    "         bins=20, density=True)\n",
    "plt.hist(noisemarg_OS_mono/noisemarg_OS_mono_err, histtype='step', lw=2, label='Monopole', color='C1',\n",
    "         bins=20, density=True)\n",
    "plt.hist(noisemarg_OS_dip/noisemarg_OS_dip_err, histtype='step', lw=2, label='Dipole', color='C2',\n",
    "         bins=20, density=True)\n",
    "\n",
    "# plt.gca().axvline(x=np.mean(noisemarg_OS/noisemarg_OS_err), ls='--', color='C0')\n",
    "# plt.gca().axvline(x=np.mean(noisemarg_OS_mono/noisemarg_OS_mono_err), ls='--', color='C1')\n",
    "# plt.gca().axvline(x=np.mean(noisemarg_OS_dip/noisemarg_OS_dip_err), ls='--', color='C2')\n",
    "\n",
    "# plt.gca().axvline(x=OS/OS_sig, ls=':', color='C0')\n",
    "# plt.gca().axvline(x=OS_mono/OS_sig_mono, ls=':', color='C1')\n",
    "# plt.gca().axvline(x=OS_dip/OS_sig_dip, ls=':', color='C2')\n",
    "\n",
    "plt.legend(loc=\"upper right\")\n",
    "plt.xlabel(\"S/N\")\n",
    "plt.ylabel(\"PDF\")\n",
    "\n",
    "plt.show()"
   ]
  },
  {
   "cell_type": "markdown",
   "metadata": {},
   "source": [
    "## Reproduce Figure 4 (top panel)"
   ]
  },
  {
   "cell_type": "code",
   "execution_count": 17,
   "metadata": {},
   "outputs": [
    {
     "data": {
      "image/png": "[encoded data removed]",
      "text/plain": [
       "<Figure size 800x400 with 1 Axes>"
      ]
     },
     "metadata": {},
     "output_type": "display_data"
    }
   ],
   "source": [
    "plt.figure(figsize=(8, 4))\n",
    "\n",
    "plt.hist(noisemarg_OS, histtype='step', lw=2, label='Hellings-Downs', color='C0', bins=20, density=True)\n",
    "plt.hist(noisemarg_OS_mono, histtype='step', lw=2, label='Monopole', color='C1', bins=20, density=True)\n",
    "plt.hist(noisemarg_OS_dip, histtype='step', lw=2, label='Dipole', color='C2', bins=20, density=True)\n",
    "plt.hist((10**(chain[:,params.index(\"gw_log10_A\")]))**2, histtype='step', lw=2, label='Uncorrelated common process',\n",
    "         color='grey', ls='--', bins=50, density=True)\n",
    "\n",
    "# plt.gca().axvline(x=np.mean(noisemarg_OS), ls='--', color='C0')\n",
    "# plt.gca().axvline(x=np.mean(noisemarg_OS_mono), ls='--', color='C1')\n",
    "# plt.gca().axvline(x=np.mean(noisemarg_OS_dip), ls='--', color='C2')\n",
    "# plt.gca().axvline(x=np.mean(10**(2*chain[:,params.index(\"gw_log10_A\")])), ls='--', color='grey')\n",
    "\n",
    "# plt.gca().axvline(x=OS, ls=':', color='C0')\n",
    "# plt.gca().axvline(x=OS_mono, ls=':', color='C1')\n",
    "# plt.gca().axvline(x=OS_dip, ls=':', color='C2')\n",
    "\n",
    "plt.xlim((-1e-30, 9e-30))\n",
    "plt.legend(loc=\"upper right\")\n",
    "plt.xlabel(r'$\\hat{A}^2$ and $A^2_{\\rm CP}$')\n",
    "plt.ylabel(\"PDF\")\n",
    "\n",
    "plt.show()"
   ]
  },
  {
   "cell_type": "markdown",
   "metadata": {},
   "source": [
    "## Remarks\n",
    "* The monopole correlation shows a large SNR compared to the other two correlations\n",
    "* However, only the amplitude of the HD correlation is consistent with the Bayesian samples\n",
    "* Both monopole and dipole correlations are disfavored from figure 3."
   ]
  },
  {
   "cell_type": "code",
   "execution_count": null,
   "metadata": {},
   "outputs": [],
   "source": []
  }
 ],
 "metadata": {
  "kernelspec": {
   "display_name": "Python 3.9.13 ('rosettaprise')",
   "language": "python",
   "name": "python3"
  },
  "language_info": {
   "codemirror_mode": {
    "name": "ipython",
    "version": 3
   },
   "file_extension": ".py",
   "mimetype": "text/x-python",
   "name": "python",
   "nbconvert_exporter": "python",
   "pygments_lexer": "ipython3",
   "version": "3.9.13"
  },
  "vscode": {
   "interpreter": {
    "hash": "258a98146d7b1fc4fd042f4c4462c9ac0b2f193510c2bf5e68563398d2b8ef68"
   }
  }
 },
 "nbformat": 4,
 "nbformat_minor": 4
}
