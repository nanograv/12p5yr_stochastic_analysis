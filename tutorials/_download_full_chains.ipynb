{
 "cells": [
  {
   "cell_type": "markdown",
   "metadata": {},
   "source": [
    "# Download data products for 12.5 year stochastic GWB search figures\n",
    "\n",
    "## Chains can also be downloaded at [https://data.nanograv.org](https://data.nanograv.org)\n",
    "* These files are available in .gz/.par or combined in a .hdf5 file format\n",
    "* Both formats contain the same information, but we download the .gz files here, because they are used in the tutorials"
   ]
  },
  {
   "cell_type": "code",
   "execution_count": 1,
   "metadata": {},
   "outputs": [],
   "source": [
    "import os"
   ]
  },
  {
   "cell_type": "markdown",
   "metadata": {},
   "source": [
    "## Download chains from 12.5 year stochastic paper\n",
    "* The following cells make sure that a folder exists and download the chains from the NANOGrav server."
   ]
  },
  {
   "cell_type": "markdown",
   "metadata": {},
   "source": [
    "## What's in the files:\n",
    "  * Each cell contains two downloads:\n",
    "     * .gz file containing the chains from an MCMC run (samples x params array)\n",
    "     * .par file containing the params associated with each column in the .gz file\n",
    "  * The chains have not had the entire burn-in phase removed. Removing the first 30_000 samples is recommended.\n",
    "  * Each chain has 4 extra parameters added by `PTMCMCSampler` each as an appended column:\n",
    "    - log probability: log likelihood + log posterior\n",
    "    - log likelihood\n",
    "    - jump acceptance rate: The MH algorithm will accept or decline jumps to new points based on their likelihood relative to the current location. The jump acceptance rate gives the ratio of accepted jumps to total jumps. We try to keep this somewhere in the range (0.25, 0.40) to get a good mix of convergence and parameter space exploration.\n",
    "    - parallel tempering swap acceptance: Without parallel tempering, this is a column vector of 1s.\n",
    "  * The frequencies used in analyses are included in `data/frequencies.txt`\n",
    "  * These frequencies correspond to the 30 frequencies given in the free spectral model\n",
    "  * All amplitudes of power-law spectra have a reference frequency of 1/year."
   ]
  },
  {
   "cell_type": "code",
   "execution_count": 2,
   "metadata": {},
   "outputs": [],
   "source": [
    "fpath = './chains/downloaded_chains/'\n",
    "if not os.path.exists(fpath):\n",
    "    os.mkdir(fpath)"
   ]
  },
  {
   "cell_type": "markdown",
   "metadata": {},
   "source": [
    "## model_2a, 5 frequency power law, fixed spectral index (gamma=4.33)"
   ]
  },
  {
   "cell_type": "code",
   "execution_count": 3,
   "metadata": {},
   "outputs": [],
   "source": [
    "# enterprise_extensions (e_e) code to reproduce model:\n",
    "# models.model_2a(psrs, noisedict=params, n_gwbfreqs=5, gamma_common=4.33, tnequad=True, tm_marg=True, tm_svd=True)"
   ]
  },
  {
   "cell_type": "code",
   "execution_count": 4,
   "metadata": {},
   "outputs": [
    {
     "name": "stdout",
     "output_type": "stream",
     "text": [
      "  % Total    % Received % Xferd  Average Speed   Time    Time     Time  Current\n",
      "                                 Dload  Upload   Total   Spent    Left  Speed\n",
      "100  2519  100  2519    0     0  11653      0 --:--:-- --:--:-- --:--:-- 11608\n",
      "  % Total    % Received % Xferd  Average Speed   Time    Time     Time  Current\n",
      "                                 Dload  Upload   Total   Spent    Left  Speed\n",
      "100  177M  100  177M    0     0  1681k      0  0:01:48  0:01:48 --:--:-- 1963k 0:00:03  0:01:02 2782k  0:00:12  0:01:12 1719k 0:01:16 1555kk      0  0:01:32  0:00:23  0:01:09 2190k 0  0:01:31  0:00:24  0:01:07 2262k 89.4M    0     0  1685k      0  0:01:48  0:00:54  0:00:54 1485k\n"
     ]
    }
   ],
   "source": [
    "# download params:\n",
    "!curl https://data.nanograv.org/static/data/12p5yr_chains/12p5yr_DE438_model2a_cRN5freq_gammaFixed4.33_pars.txt -o ./chains/downloaded_chains/12p5yr_DE438_model2a_cRN5freq_gammaFixed4.33_pars.txt\n",
    "\n",
    "# download chain:\n",
    "!curl https://data.nanograv.org/static/data/12p5yr_chains/12p5yr_DE438_model2a_cRN5freq_gammaFixed4.33_chain.gz -o ./chains/downloaded_chains/12p5yr_DE438_model2a_cRN5freq_gammaFixed4.33_chain.gz"
   ]
  },
  {
   "cell_type": "markdown",
   "metadata": {},
   "source": [
    "## model_2a, 5 frequency power law, spectral index vary"
   ]
  },
  {
   "cell_type": "code",
   "execution_count": 5,
   "metadata": {},
   "outputs": [],
   "source": [
    "# e_e code to reproduce model:\n",
    "# models.model_2a(psrs, noisedict=params, n_gwbfreqs=5, tnequad=True)"
   ]
  },
  {
   "cell_type": "code",
   "execution_count": 5,
   "metadata": {},
   "outputs": [
    {
     "name": "stdout",
     "output_type": "stream",
     "text": [
      "  % Total    % Received % Xferd  Average Speed   Time    Time     Time  Current\n",
      "                                 Dload  Upload   Total   Spent    Left  Speed\n",
      "100  2528  100  2528    0     0  11837      0 --:--:-- --:--:-- --:--:-- 11868\n",
      "  % Total    % Received % Xferd  Average Speed   Time    Time     Time  Current\n",
      "                                 Dload  Upload   Total   Spent    Left  Speed\n",
      "100  128M  100  128M    0     0  1937k      0  0:01:07  0:01:07 --:--:-- 2080k0  0:01:08  0:00:11  0:00:57 1915k10  0:00:51  0:00:19 2009k 1851k      0  0:01:11  0:00:57  0:00:14 1614k01:00  0:00:10 1823k\n"
     ]
    }
   ],
   "source": [
    "# download params:\n",
    "!curl https://data.nanograv.org/static/data/12p5yr_chains/12p5yr_DE438_model2a_cRN5freq_gammaVary_pars.txt -o ./chains/downloaded_chains/12p5yr_DE438_model2a_cRN5freq_gammaVary_pars.txt\n",
    "\n",
    "# download chain:\n",
    "!curl https://data.nanograv.org/static/data/12p5yr_chains/12p5yr_DE438_model2a_cRN5freq_gammaVary_chain.gz -o ./chains/downloaded_chains/12p5yr_DE438_model2a_cRN5freq_gammaVary_chain.gz"
   ]
  },
  {
   "cell_type": "markdown",
   "metadata": {},
   "source": [
    "## model_2a, 30 frequency power law, spectral index vary"
   ]
  },
  {
   "cell_type": "code",
   "execution_count": 7,
   "metadata": {},
   "outputs": [],
   "source": [
    "# e_e code to reproduce model:\n",
    "# models.model_2a(psrs, noisedict=params, tnequad=True)"
   ]
  },
  {
   "cell_type": "code",
   "execution_count": 8,
   "metadata": {},
   "outputs": [
    {
     "name": "stdout",
     "output_type": "stream",
     "text": [
      "  % Total    % Received % Xferd  Average Speed   Time    Time     Time  Current\n",
      "                                 Dload  Upload   Total   Spent    Left  Speed\n",
      "100  2528  100  2528    0     0   7760      0 --:--:-- --:--:-- --:--:--  7754\n",
      "  % Total    % Received % Xferd  Average Speed   Time    Time     Time  Current\n",
      "                                 Dload  Upload   Total   Spent    Left  Speed\n",
      "100  147M  100  147M    0     0  1767k      0  0:01:25  0:01:25 --:--:-- 1728k\n"
     ]
    }
   ],
   "source": [
    "# download params:\n",
    "!curl https://data.nanograv.org/static/data/12p5yr_chains/12p5yr_DE438_model2a_cRN30freq_gammaVary_pars.txt -o ./chains/downloaded_chains/12p5yr_DE438_model2a_cRN30freq_gammaVary_pars.txt\n",
    "\n",
    "# download chain:\n",
    "!curl https://data.nanograv.org/static/data/12p5yr_chains/12p5yr_DE438_model2a_cRN30freq_gammaVary_chain.gz -o ./chains/downloaded_chains/12p5yr_DE438_model2a_cRN30freq_gammaVary_chain.gz"
   ]
  },
  {
   "cell_type": "markdown",
   "metadata": {},
   "source": [
    "## model_2a, broken power law"
   ]
  },
  {
   "cell_type": "code",
   "execution_count": 9,
   "metadata": {},
   "outputs": [],
   "source": [
    "# e_e code to reproduce model:\n",
    "# models.model_2a(psrs, psd='turnover', noisedict=params, tnequad=True)"
   ]
  },
  {
   "cell_type": "code",
   "execution_count": 10,
   "metadata": {},
   "outputs": [
    {
     "name": "stdout",
     "output_type": "stream",
     "text": [
      "  % Total    % Received % Xferd  Average Speed   Time    Time     Time  Current\n",
      "                                 Dload  Upload   Total   Spent    Left  Speed\n",
      "100  2543  100  2543    0     0   8243      0 --:--:-- --:--:-- --:--:--  8256\n",
      "  % Total    % Received % Xferd  Average Speed   Time    Time     Time  Current\n",
      "                                 Dload  Upload   Total   Spent    Left  Speed\n",
      "100  165M  100  165M    0     0  1754k      0  0:01:36  0:01:36 --:--:-- 1785k\n"
     ]
    }
   ],
   "source": [
    "# download params:\n",
    "!curl https://data.nanograv.org/static/data/12p5yr_chains/12p5yr_DE438_model2a_PSDbrokenplaw_gammaVary_pars.txt -o ./chains/downloaded_chains/12p5yr_DE438_model2a_PSDbrokenplaw_gammaVary_pars.txt\n",
    "\n",
    "# download chain:\n",
    "!curl https://data.nanograv.org/static/data/12p5yr_chains/12p5yr_DE438_model2a_PSDbrokenplaw_gammaVary_chain.gz -o ./chains/downloaded_chains/12p5yr_DE438_model2a_PSDbrokenplaw_gammaVary_chain.gz"
   ]
  },
  {
   "cell_type": "markdown",
   "metadata": {},
   "source": [
    "## model_2a, free spectral model"
   ]
  },
  {
   "cell_type": "code",
   "execution_count": 11,
   "metadata": {},
   "outputs": [],
   "source": [
    "# models.model_2a(psrs, psd='spectrum', noisedict=params, tnequad=True)"
   ]
  },
  {
   "cell_type": "code",
   "execution_count": 12,
   "metadata": {},
   "outputs": [
    {
     "name": "stdout",
     "output_type": "stream",
     "text": [
      "  % Total    % Received % Xferd  Average Speed   Time    Time     Time  Current\n",
      "                                 Dload  Upload   Total   Spent    Left  Speed\n",
      "100  2978  100  2978    0     0   9580      0 --:--:-- --:--:-- --:--:--  9606\n",
      "  % Total    % Received % Xferd  Average Speed   Time    Time     Time  Current\n",
      "                                 Dload  Upload   Total   Spent    Left  Speed\n",
      "100  215M  100  215M    0     0  1774k      0  0:02:04  0:02:04 --:--:-- 1676k\n"
     ]
    }
   ],
   "source": [
    "# download params:\n",
    "!curl https://data.nanograv.org/static/data/12p5yr_chains/12p5yr_DE438_model2a_PSDspectrum_pars.txt -o ./chains/downloaded_chains/12p5yr_DE438_model2a_PSDspectrum_pars.txt\n",
    "\n",
    "# download chain:\n",
    "!curl https://data.nanograv.org/static/data/12p5yr_chains/12p5yr_DE438_model2a_PSDspectrum_chain.gz -o ./chains/downloaded_chains/12p5yr_DE438_model2a_PSDspectrum_chain.gz"
   ]
  },
  {
   "cell_type": "markdown",
   "metadata": {},
   "source": [
    "## model_2a, 5 frequency power law, fixed spectral index (gamma=4.33) with BayesEphem"
   ]
  },
  {
   "cell_type": "code",
   "execution_count": 13,
   "metadata": {},
   "outputs": [],
   "source": [
    "# models.model_2a(psrs, noisedict=params, components=5,\n",
    "#                 gamma_common=4.33, bayesephem=True, tnequad=True)"
   ]
  },
  {
   "cell_type": "code",
   "execution_count": 14,
   "metadata": {},
   "outputs": [
    {
     "name": "stdout",
     "output_type": "stream",
     "text": [
      "  % Total    % Received % Xferd  Average Speed   Time    Time     Time  Current\n",
      "                                 Dload  Upload   Total   Spent    Left  Speed\n",
      "100  2708  100  2708    0     0   8755      0 --:--:-- --:--:-- --:--:--  8763\n",
      "  % Total    % Received % Xferd  Average Speed   Time    Time     Time  Current\n",
      "                                 Dload  Upload   Total   Spent    Left  Speed\n",
      "100  279M  100  279M    0     0  1742k      0  0:02:44  0:02:44 --:--:-- 1815k\n"
     ]
    }
   ],
   "source": [
    "# download params:\n",
    "!curl https://data.nanograv.org/static/data/12p5yr_chains/12p5yr_DE438wBayesEphem_model2a_cRN5freq_gammaFixed4.33_pars.txt -o ./chains/downloaded_chains/12p5yr_DE438wBayesEphem_model2a_cRN5freq_gammaFixed4.33_pars.txt\n",
    "\n",
    "# download chain:\n",
    "!curl https://data.nanograv.org/static/data/12p5yr_chains/12p5yr_DE438wBayesEphem_model2a_cRN5freq_gammaFixed4.33_chain.gz -o ./chains/downloaded_chains/12p5yr_DE438wBayesEphem_model2a_cRN5freq_gammaFixed4.33_chain.gz"
   ]
  },
  {
   "cell_type": "markdown",
   "metadata": {},
   "source": [
    "## model_2a, 5 frequency power law, fixed spectral index (gamma=4.33) using INPOP19 ephemeris"
   ]
  },
  {
   "cell_type": "code",
   "execution_count": 15,
   "metadata": {},
   "outputs": [],
   "source": [
    "# load_pulsars(datadir, PINT=False, ephemeris='INPOP19', save=False)\n",
    "# models.model_2a(psrs, noisedict=params, components=5, gamma_common=4.33, tnequad=True)\n",
    "# In order to change from DE438 to INPOP19, the psrs list will be different"
   ]
  },
  {
   "cell_type": "code",
   "execution_count": 16,
   "metadata": {},
   "outputs": [
    {
     "name": "stdout",
     "output_type": "stream",
     "text": [
      "  % Total    % Received % Xferd  Average Speed   Time    Time     Time  Current\n",
      "                                 Dload  Upload   Total   Spent    Left  Speed\n",
      "100  2519  100  2519    0     0   8105      0 --:--:-- --:--:-- --:--:--  8125\n",
      "  % Total    % Received % Xferd  Average Speed   Time    Time     Time  Current\n",
      "                                 Dload  Upload   Total   Spent    Left  Speed\n",
      "100 96.7M  100 96.7M    0     0  1674k      0  0:00:59  0:00:59 --:--:-- 1790k\n"
     ]
    }
   ],
   "source": [
    "# download params:\n",
    "!curl https://data.nanograv.org/static/data/12p5yr_chains/12p5yr_INPOP19_model2a_cRN5freq_gammaFixed4.33_pars.txt -o ./chains/downloaded_chains/12p5yr_INPOP19_model2a_cRN5freq_gammaFixed4.33_pars.text\n",
    "\n",
    "# download chain:\n",
    "!curl https://data.nanograv.org/static/data/12p5yr_chains/12p5yr_INPOP19_model2a_cRN5freq_gammaFixed4.33_chain.gz -o ./chains/downloaded_chains/12p5yr_INPOP19_model2a_cRN5freq_gammaFixed4.33_chain.gz"
   ]
  },
  {
   "cell_type": "markdown",
   "metadata": {},
   "source": [
    "## model_2a, 5 frequency power law, fixed spectral index (gamma=4.33) using INPOP19 ephemeris with BayesEphem"
   ]
  },
  {
   "cell_type": "code",
   "execution_count": 17,
   "metadata": {},
   "outputs": [],
   "source": [
    "# load_pulsars(datadir, PINT=False, ephemeris='INPOP19', save=False)\n",
    "# models.model_2a(psrs, noisedict=params, components=5,\n",
    "#                 gamma_common=4.33, bayesephem=True, tnequad=True)\n",
    "# In order to change from DE438 to INPOP19, the psrs list will be different"
   ]
  },
  {
   "cell_type": "code",
   "execution_count": 18,
   "metadata": {},
   "outputs": [
    {
     "name": "stdout",
     "output_type": "stream",
     "text": [
      "  % Total    % Received % Xferd  Average Speed   Time    Time     Time  Current\n",
      "                                 Dload  Upload   Total   Spent    Left  Speed\n",
      "100  2708  100  2708    0     0   8712      0 --:--:-- --:--:-- --:--:--  8735\n",
      "  % Total    % Received % Xferd  Average Speed   Time    Time     Time  Current\n",
      "                                 Dload  Upload   Total   Spent    Left  Speed\n",
      "100  105M  100  105M    0     0  1753k      0  0:01:01  0:01:01 --:--:-- 1764k\n"
     ]
    }
   ],
   "source": [
    "# download params:\n",
    "!curl https://data.nanograv.org/static/data/12p5yr_chains/12p5yr_INPOP19wBayesEphem_model2a_cRN5freq_gammaFixed4.33_pars.txt -o ./chains/downloaded_chains/12p5yr_INPOP19wBayesEphem_model2a_cRN5freq_gammaFixed4.33_pars.txt\n",
    "\n",
    "# download chain:\n",
    "!curl https://data.nanograv.org/static/data/12p5yr_chains/12p5yr_INPOP19wBayesEphem_model2a_cRN5freq_gammaFixed4.33_chain.gz -o ./chains/downloaded_chains/12p5yr_INPOP19wBayesEphem_model2a_cRN5freq_gammaFixed4.33_chain.gz"
   ]
  },
  {
   "cell_type": "code",
   "execution_count": null,
   "metadata": {},
   "outputs": [],
   "source": []
  }
 ],
 "metadata": {
  "kernelspec": {
   "display_name": "Python 3.8.9 64-bit",
   "language": "python",
   "name": "python3"
  },
  "language_info": {
   "codemirror_mode": {
    "name": "ipython",
    "version": 3
   },
   "file_extension": ".py",
   "mimetype": "text/x-python",
   "name": "python",
   "nbconvert_exporter": "python",
   "pygments_lexer": "ipython3",
   "version": "3.9.6 (default, Sep 26 2022, 11:37:49) \n[Clang 14.0.0 (clang-1400.0.29.202)]"
  },
  "metadata": {
   "interpreter": {
    "hash": "913a1c0a8bc180c68be9ca280758699feb83bb17ca8df97de1bd02c95d5179f1"
   }
  },
  "vscode": {
   "interpreter": {
    "hash": "31f2aee4e71d21fbe5cf8b01ff0e069b9275f58929596ceb00d14d90e3e16cd6"
   }
  }
 },
 "nbformat": 4,
 "nbformat_minor": 4
}
