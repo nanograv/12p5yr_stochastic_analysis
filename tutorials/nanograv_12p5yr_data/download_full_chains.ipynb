{
 "metadata": {
  "language_info": {
   "codemirror_mode": {
    "name": "ipython",
    "version": 3
   },
   "file_extension": ".py",
   "mimetype": "text/x-python",
   "name": "python",
   "nbconvert_exporter": "python",
   "pygments_lexer": "ipython3",
   "version": "3.9.6"
  },
  "orig_nbformat": 2,
  "kernelspec": {
   "name": "python3",
   "display_name": "Python 3.9.6 64-bit ('enterprise': conda)"
  },
  "metadata": {
   "interpreter": {
    "hash": "913a1c0a8bc180c68be9ca280758699feb83bb17ca8df97de1bd02c95d5179f1"
   }
  },
  "interpreter": {
   "hash": "4e8aafc87392023be83577fd457f6b0c91f9d6d2cf4e357821620907be4e7f3b"
  }
 },
 "nbformat": 4,
 "nbformat_minor": 2,
 "cells": [
  {
   "cell_type": "markdown",
   "source": [
    "# Download data products for 12.5 year stochastic GWB search figures\n",
    "\n",
    "## Chains can also be downloaded at [https://data.nanograv.org](https://data.nanograv.org)\n",
    "* These files are available in .gz/.par or combined in a .hdf5 file format\n",
    "* Both formats contain the same information, but we download the .gz files here, because they are used in the tutorials"
   ],
   "metadata": {}
  },
  {
   "cell_type": "code",
   "execution_count": 1,
   "source": [
    "import os"
   ],
   "outputs": [],
   "metadata": {}
  },
  {
   "cell_type": "markdown",
   "source": [
    "## Download chains from 12.5 year stochastic paper\n",
    "* The following cells make sure that a folder exists and download the chains from the NANOGrav server."
   ],
   "metadata": {}
  },
  {
   "cell_type": "markdown",
   "source": [
    "## What's in the files:\n",
    "  * Each cell contains two downloads:\n",
    "     * .gz file containing the chains from an MCMC run (samples x params array)\n",
    "     * .par file containing the params associated with each column in the .gz file\n",
    "  * The chains have not had the entire burn-in phase removed. Removing the first 30_000 samples is recommended.\n",
    "  * Each chain has 4 extra parameters added by `PTMCMCSampler` each as an appended column:\n",
    "    - log probability\n",
    "    - log likelihood\n",
    "    - jump acceptance rate\n",
    "    - parallel tempering swap acceptance\n",
    "  * The frequencies used in analyses are included in `data/frequencies.txt`\n",
    "  * These frequencies correspond to the 30 frequencies given in the free spectral model\n",
    "  * All amplitudes of power-law spectra have a reference frequency of 1/year."
   ],
   "metadata": {}
  },
  {
   "cell_type": "code",
   "execution_count": 2,
   "source": [
    "fpath = '../../chains/downloaded_chains/'\n",
    "if not os.path.exists(fpath):\n",
    "    os.mkdir(fpath)"
   ],
   "outputs": [],
   "metadata": {}
  },
  {
   "cell_type": "markdown",
   "source": [
    "## model_2a, 5 frequency power law, fixed spectral index (gamma=4.33)"
   ],
   "metadata": {}
  },
  {
   "cell_type": "code",
   "execution_count": 3,
   "source": [
    "# enterprise_extensions (e_e) code to reproduce model:\n",
    "# models.model_2a(psrs, noisedict=params, n_gwbfreqs=5, gamma_common=4.33)"
   ],
   "outputs": [],
   "metadata": {}
  },
  {
   "cell_type": "code",
   "execution_count": 4,
   "source": [
    "# download params:\n",
    "!curl https://data.nanograv.org/static/data/12p5yr_chains/12p5yr_DE438_model2a_cRN5freq_gammaFixed4.33_pars.txt -o ../../chains/downloaded_chains/12p5yr_DE438_model2a_cRN5freq_gammaFixed4.33_pars.txt\n",
    "\n",
    "# download chain:\n",
    "!curl https://data.nanograv.org/static/data/12p5yr_chains/12p5yr_DE438_model2a_cRN5freq_gammaFixed4.33_chain.gz -o ../../chains/downloaded_chains/12p5yr_DE438_model2a_cRN5freq_gammaFixed4.33_chain.gz"
   ],
   "outputs": [
    {
     "output_type": "stream",
     "name": "stdout",
     "text": [
      "  % Total    % Received % Xferd  Average Speed   Time    Time     Time  Current\n",
      "                                 Dload  Upload   Total   Spent    Left  Speed\n",
      "100  2519  100  2519    0     0   7820      0 --:--:-- --:--:-- --:--:--  7847\n",
      "  % Total    % Received % Xferd  Average Speed   Time    Time     Time  Current\n",
      "                                 Dload  Upload   Total   Spent    Left  Speed\n",
      "100  177M  100  177M    0     0  1768k      0  0:01:43  0:01:43 --:--:-- 1791k\n"
     ]
    }
   ],
   "metadata": {}
  },
  {
   "cell_type": "markdown",
   "source": [
    "## model_2a, 5 frequency power law, spectral index vary"
   ],
   "metadata": {}
  },
  {
   "cell_type": "code",
   "execution_count": 5,
   "source": [
    "# e_e code to reproduce model:\n",
    "# models.model_2a(psrs, noisedict=params, n_gwbfreqs=5)"
   ],
   "outputs": [],
   "metadata": {}
  },
  {
   "cell_type": "code",
   "execution_count": 6,
   "source": [
    "# download params:\n",
    "!curl https://data.nanograv.org/static/data/12p5yr_chains/12p5yr_DE438_model2a_cRN5freq_gammaVary_pars.txt -o ../../chains/downloaded_chains/12p5yr_DE438_model2a_cRN5freq_gammaVary_pars.txt\n",
    "\n",
    "# download chain:\n",
    "!curl https://data.nanograv.org/static/data/12p5yr_chains/12p5yr_DE438_model2a_cRN5freq_gammaVary_chain.gz -o ../../chains/downloaded_chains/12p5yr_DE438_model2a_cRN5freq_gammaVary_chain.gz"
   ],
   "outputs": [
    {
     "output_type": "stream",
     "name": "stdout",
     "text": [
      "  % Total    % Received % Xferd  Average Speed   Time    Time     Time  Current\n",
      "                                 Dload  Upload   Total   Spent    Left  Speed\n",
      "100  2528  100  2528    0     0   8214      0 --:--:-- --:--:-- --:--:--  8234\n",
      "  % Total    % Received % Xferd  Average Speed   Time    Time     Time  Current\n",
      "                                 Dload  Upload   Total   Spent    Left  Speed\n",
      "100  128M  100  128M    0     0  1726k      0  0:01:16  0:01:16 --:--:-- 1787k\n"
     ]
    }
   ],
   "metadata": {}
  },
  {
   "cell_type": "markdown",
   "source": [
    "## model_2a, 30 frequency power law, spectral index vary"
   ],
   "metadata": {}
  },
  {
   "cell_type": "code",
   "execution_count": 7,
   "source": [
    "# e_e code to reproduce model:\n",
    "# models.model_2a(psrs, noisedict=params)"
   ],
   "outputs": [],
   "metadata": {}
  },
  {
   "cell_type": "code",
   "execution_count": 8,
   "source": [
    "# download params:\n",
    "!curl https://data.nanograv.org/static/data/12p5yr_chains/12p5yr_DE438_model2a_cRN30freq_gammaVary_pars.txt -o ../../chains/downloaded_chains/12p5yr_DE438_model2a_cRN30freq_gammaVary_pars.txt\n",
    "\n",
    "# download chain:\n",
    "!curl https://data.nanograv.org/static/data/12p5yr_chains/12p5yr_DE438_model2a_cRN30freq_gammaVary_chain.gz -o ../../chains/downloaded_chains/12p5yr_DE438_model2a_cRN30freq_gammaVary_chain.gz"
   ],
   "outputs": [
    {
     "output_type": "stream",
     "name": "stdout",
     "text": [
      "  % Total    % Received % Xferd  Average Speed   Time    Time     Time  Current\n",
      "                                 Dload  Upload   Total   Spent    Left  Speed\n",
      "100  2528  100  2528    0     0   7760      0 --:--:-- --:--:-- --:--:--  7754\n",
      "  % Total    % Received % Xferd  Average Speed   Time    Time     Time  Current\n",
      "                                 Dload  Upload   Total   Spent    Left  Speed\n",
      "100  147M  100  147M    0     0  1767k      0  0:01:25  0:01:25 --:--:-- 1728k\n"
     ]
    }
   ],
   "metadata": {}
  },
  {
   "cell_type": "markdown",
   "source": [
    "## model_2a, broken power law"
   ],
   "metadata": {}
  },
  {
   "cell_type": "code",
   "execution_count": 9,
   "source": [
    "# e_e code to reproduce model:\n",
    "# models.model_2a(psrs, psd='turnover', noisedict=params)"
   ],
   "outputs": [],
   "metadata": {}
  },
  {
   "cell_type": "code",
   "execution_count": 10,
   "source": [
    "# download params:\n",
    "!curl https://data.nanograv.org/static/data/12p5yr_chains/12p5yr_DE438_model2a_PSDbrokenplaw_gammaVary_pars.txt -o ../../chains/downloaded_chains/12p5yr_DE438_model2a_PSDbrokenplaw_gammaVary_pars.txt\n",
    "\n",
    "# download chain:\n",
    "!curl https://data.nanograv.org/static/data/12p5yr_chains/12p5yr_DE438_model2a_PSDbrokenplaw_gammaVary_chain.gz -o ../../chains/downloaded_chains/12p5yr_DE438_model2a_PSDbrokenplaw_gammaVary_chain.gz"
   ],
   "outputs": [
    {
     "output_type": "stream",
     "name": "stdout",
     "text": [
      "  % Total    % Received % Xferd  Average Speed   Time    Time     Time  Current\n",
      "                                 Dload  Upload   Total   Spent    Left  Speed\n",
      "100  2543  100  2543    0     0   8243      0 --:--:-- --:--:-- --:--:--  8256\n",
      "  % Total    % Received % Xferd  Average Speed   Time    Time     Time  Current\n",
      "                                 Dload  Upload   Total   Spent    Left  Speed\n",
      "100  165M  100  165M    0     0  1754k      0  0:01:36  0:01:36 --:--:-- 1785k\n"
     ]
    }
   ],
   "metadata": {}
  },
  {
   "cell_type": "markdown",
   "source": [
    "## model_2a, free spectral model"
   ],
   "metadata": {}
  },
  {
   "cell_type": "code",
   "execution_count": 11,
   "source": [
    "# models.model_2a(psrs, psd='spectrum', noisedict=params)"
   ],
   "outputs": [],
   "metadata": {}
  },
  {
   "cell_type": "code",
   "execution_count": 12,
   "source": [
    "# download params:\n",
    "!curl https://data.nanograv.org/static/data/12p5yr_chains/12p5yr_DE438_model2a_PSDspectrum_pars.txt -o ../../chains/downloaded_chains/12p5yr_DE438_model2a_PSDspectrum_pars.txt\n",
    "\n",
    "# download chain:\n",
    "!curl https://data.nanograv.org/static/data/12p5yr_chains/12p5yr_DE438_model2a_PSDspectrum_chain.gz -o ../../chains/downloaded_chains/12p5yr_DE438_model2a_PSDspectrum_chain.gz"
   ],
   "outputs": [
    {
     "output_type": "stream",
     "name": "stdout",
     "text": [
      "  % Total    % Received % Xferd  Average Speed   Time    Time     Time  Current\n",
      "                                 Dload  Upload   Total   Spent    Left  Speed\n",
      "100  2978  100  2978    0     0   9580      0 --:--:-- --:--:-- --:--:--  9606\n",
      "  % Total    % Received % Xferd  Average Speed   Time    Time     Time  Current\n",
      "                                 Dload  Upload   Total   Spent    Left  Speed\n",
      "100  215M  100  215M    0     0  1774k      0  0:02:04  0:02:04 --:--:-- 1676k\n"
     ]
    }
   ],
   "metadata": {}
  },
  {
   "cell_type": "markdown",
   "source": [
    "## model_2a, 5 frequency power law, fixed spectral index (gamma=4.33) with BayesEphem"
   ],
   "metadata": {}
  },
  {
   "cell_type": "code",
   "execution_count": 13,
   "source": [
    "# models.model_2a(psrs, noisedict=params, components=5,\n",
    "#                 gamma_common=4.33, bayesephem=True)"
   ],
   "outputs": [],
   "metadata": {}
  },
  {
   "cell_type": "code",
   "execution_count": 14,
   "source": [
    "# download params:\n",
    "!curl https://data.nanograv.org/static/data/12p5yr_chains/12p5yr_DE438wBayesEphem_model2a_cRN5freq_gammaFixed4.33_pars.txt -o ../../chains/downloaded_chains/12p5yr_DE438wBayesEphem_model2a_cRN5freq_gammaFixed4.33_pars.txt\n",
    "\n",
    "# download chain:\n",
    "!curl https://data.nanograv.org/static/data/12p5yr_chains/12p5yr_DE438wBayesEphem_model2a_cRN5freq_gammaFixed4.33_chain.gz -o ../../chains/downloaded_chains/12p5yr_DE438wBayesEphem_model2a_cRN5freq_gammaFixed4.33_chain.gz"
   ],
   "outputs": [
    {
     "output_type": "stream",
     "name": "stdout",
     "text": [
      "  % Total    % Received % Xferd  Average Speed   Time    Time     Time  Current\n",
      "                                 Dload  Upload   Total   Spent    Left  Speed\n",
      "100  2708  100  2708    0     0   8755      0 --:--:-- --:--:-- --:--:--  8763\n",
      "  % Total    % Received % Xferd  Average Speed   Time    Time     Time  Current\n",
      "                                 Dload  Upload   Total   Spent    Left  Speed\n",
      "100  279M  100  279M    0     0  1742k      0  0:02:44  0:02:44 --:--:-- 1815k\n"
     ]
    }
   ],
   "metadata": {}
  },
  {
   "cell_type": "markdown",
   "source": [
    "## model_2a, 5 frequency power law, fixed spectral index (gamma=4.33) using INPOP19 ephemeris"
   ],
   "metadata": {}
  },
  {
   "cell_type": "code",
   "execution_count": 15,
   "source": [
    "# models.model_2a(psrs, noisedict=params, components=5, gamma_common=4.33)\n",
    "# In order to change from DE438 to INPOP19, the psrs list will be different"
   ],
   "outputs": [],
   "metadata": {}
  },
  {
   "cell_type": "code",
   "execution_count": 16,
   "source": [
    "# download params:\n",
    "!curl https://data.nanograv.org/static/data/12p5yr_chains/12p5yr_INPOP19_model2a_cRN5freq_gammaFixed4.33_pars.txt -o ../../chains/downloaded_chains/12p5yr_INPOP19_model2a_cRN5freq_gammaFixed4.33_pars.text\n",
    "\n",
    "# download chain:\n",
    "!curl https://data.nanograv.org/static/data/12p5yr_chains/12p5yr_INPOP19_model2a_cRN5freq_gammaFixed4.33_chain.gz -o ../../chains/downloaded_chains/12p5yr_INPOP19_model2a_cRN5freq_gammaFixed4.33_chain.gz"
   ],
   "outputs": [
    {
     "output_type": "stream",
     "name": "stdout",
     "text": [
      "  % Total    % Received % Xferd  Average Speed   Time    Time     Time  Current\n",
      "                                 Dload  Upload   Total   Spent    Left  Speed\n",
      "100  2519  100  2519    0     0   8105      0 --:--:-- --:--:-- --:--:--  8125\n",
      "  % Total    % Received % Xferd  Average Speed   Time    Time     Time  Current\n",
      "                                 Dload  Upload   Total   Spent    Left  Speed\n",
      "100 96.7M  100 96.7M    0     0  1674k      0  0:00:59  0:00:59 --:--:-- 1790k\n"
     ]
    }
   ],
   "metadata": {}
  },
  {
   "cell_type": "markdown",
   "source": [
    "## model_2a, 5 frequency power law, fixed spectral index (gamma=4.33) using INPOP19 ephemeris with BayesEphem"
   ],
   "metadata": {}
  },
  {
   "cell_type": "code",
   "execution_count": 17,
   "source": [
    "# models.model_2a(psrs, noisedict=params, components=5,\n",
    "#                 gamma_common=4.33, bayesephem=True)\n",
    "# In order to change from DE438 to INPOP19, the psrs list will be different"
   ],
   "outputs": [],
   "metadata": {}
  },
  {
   "cell_type": "code",
   "execution_count": 18,
   "source": [
    "# download params:\n",
    "!curl https://data.nanograv.org/static/data/12p5yr_chains/12p5yr_INPOP19wBayesEphem_model2a_cRN5freq_gammaFixed4.33_pars.txt -o ../../chains/downloaded_chains/12p5yr_INPOP19wBayesEphem_model2a_cRN5freq_gammaFixed4.33_pars.txt\n",
    "\n",
    "# download chain:\n",
    "!curl https://data.nanograv.org/static/data/12p5yr_chains/12p5yr_INPOP19wBayesEphem_model2a_cRN5freq_gammaFixed4.33_chain.gz -o ../../chains/downloaded_chains/12p5yr_INPOP19wBayesEphem_model2a_cRN5freq_gammaFixed4.33_chain.gz"
   ],
   "outputs": [
    {
     "output_type": "stream",
     "name": "stdout",
     "text": [
      "  % Total    % Received % Xferd  Average Speed   Time    Time     Time  Current\n",
      "                                 Dload  Upload   Total   Spent    Left  Speed\n",
      "100  2708  100  2708    0     0   8712      0 --:--:-- --:--:-- --:--:--  8735\n",
      "  % Total    % Received % Xferd  Average Speed   Time    Time     Time  Current\n",
      "                                 Dload  Upload   Total   Spent    Left  Speed\n",
      "100  105M  100  105M    0     0  1753k      0  0:01:01  0:01:01 --:--:-- 1764k\n"
     ]
    }
   ],
   "metadata": {}
  },
  {
   "cell_type": "code",
   "execution_count": null,
   "source": [],
   "outputs": [],
   "metadata": {}
  }
 ]
}