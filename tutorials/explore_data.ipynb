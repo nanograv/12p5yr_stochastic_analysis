{
 "cells": [
  {
   "cell_type": "code",
   "execution_count": 1,
   "metadata": {},
   "outputs": [],
   "source": [
    "import numpy as np\n",
    "import matplotlib.pyplot as plt\n",
    "import pickle, json"
   ]
  },
  {
   "attachments": {},
   "cell_type": "markdown",
   "metadata": {},
   "source": [
    "# Exploring NANOGrav Data\n",
    "\n",
    "  * In this tutorial, you will learn what information exists in the data used by the NANOGrav data working group to search for gravitational waves with pulsar timing data."
   ]
  },
  {
   "attachments": {},
   "cell_type": "markdown",
   "metadata": {},
   "source": [
    "## Pulsar timing data\n",
    "  `TEMPO`, `TEMPO2` and `PINT` are packages written in various programming languages to enable pulsar timing.\n",
    "\n",
    "  These packages require:\n",
    "  * Clock files that contain corrections necessary for accurate timing\n",
    "  * Files that contain information about the orientation of Earth at each pulse time\n",
    "  * An ephemeris to show the location and movement of solar system objects\n",
    "  * Location of observatories where radio telescopes exist to record pulse times of arrival (TOAs)\n",
    "  "
   ]
  },
  {
   "attachments": {},
   "cell_type": "markdown",
   "metadata": {},
   "source": [
    "### `.tim` files\n",
    "\n",
    "`.tim` files contain the pulse TOAs.\n",
    "\n",
    "Let's look at an example of a TOA"
   ]
  },
  {
   "cell_type": "code",
   "execution_count": null,
   "metadata": {},
   "outputs": [],
   "source": [
    "# MODE 1\n",
    "# FORMAT 1\n",
    "# 53358.000051.3.000.000.9y.x.ff 1442.000000 53358.727464829165176   0.382   ao  -fe L-wide -be ASP -f L-wide_ASP -bw 4 -tobs 903.76 -tmplt B1855+09.L-wide.PUPPI.9y.x.sum.sm -gof 1.02 -nbin 2048 -nch 1 -chan 0 -subint 0 -snr 468.67 -wt 15 -proc 9y -pta NANOGrav -to -0.839e-6"
   ]
  },
  {
   "attachments": {},
   "cell_type": "markdown",
   "metadata": {},
   "source": [
    "There are a few things to notice here:\n",
    "* `MODE 1` indicates ...\n",
    "* `FORMAT 1` is a TEMPO2 style format for the `.tim` file\n",
    "\n",
    "The next line is several bits of information separated by spaces\n",
    "* File name or identifier\n",
    "* Observing frequency (MHz)\n",
    "* Pulse site arrival time (MJD)\n",
    "* Uncertainty on arrival time (microseconds)\n",
    "* Observing site\n",
    "\n",
    "The rest of the pieces are flags that denote receiver and backend, SNR, and other information that might be useful.\n",
    "\n",
    "If a line starts with a `C`, it has been commented and therefore removed from the used data (perhaps as an outlier or of poor data quality)"
   ]
  },
  {
   "attachments": {},
   "cell_type": "markdown",
   "metadata": {},
   "source": [
    "### `.par` files\n",
    "  `.par` files contain parameters that specify the best fit parameters for the timing model\n",
    "\n",
    "  For example, let's look at a few lines from `B1855+09_NANOGrav_12yv3.gls.par`\n"
   ]
  },
  {
   "cell_type": "code",
   "execution_count": null,
   "metadata": {},
   "outputs": [],
   "source": [
    "# PSR              B1855+09\n",
    "# LAMBDA   286.8634874759636  1     0.0000000120871\n",
    "# BETA      32.3214851773070  1     0.0000000190648\n",
    "# PMLAMBDA           -3.2685  1              0.0092\n",
    "# PMBETA             -5.0604  1              0.0176\n",
    "# PX                  0.7149  1              0.1217\n",
    "# POSEPOCH        55637.0000\n",
    "# F0    186.4940812354548996  1  0.0000000000047889\n",
    "# F1     -6.204791865029D-16  1  2.855227959554D-20\n",
    "# PEPOCH        55637.000000\n",
    "# START            53358.726\n",
    "# FINISH           57915.276\n",
    "# DM               13.313704\n",
    "# DMX               0.500000\n",
    "\n",
    "# ...\n",
    "\n",
    "# FD1  1.08328810D-04  1      1.58206697D-05\n",
    "# FD2 -1.22195906D-04  1      1.92718770D-05\n",
    "# FD3  6.51517794D-05  1      1.16423594D-05\n",
    "# SOLARN0               0.00\n",
    "# EPHEM               DE436\n",
    "# ECL                 IERS2010\n",
    "# CLK                 TT(BIPM2017)                    \n",
    "# UNITS               TDB\n",
    "# TIMEEPH             FB90\n",
    "# T2CMETHOD           TEMPO\n",
    "# CORRECT_TROPOSPHERE N\n",
    "# PLANET_SHAPIRO      N\n",
    "# DILATEFREQ          N\n",
    "# NTOA                  6464\n",
    "# TRES                  1.28\n",
    "# TZRMJD  55638.45920097032105\n",
    "# TZRFRQ            1410.000\n",
    "# TZRSITE                  AO\n",
    "# MODE                     1\n",
    "# NITS 1\n",
    "# INFO -f                              \n",
    "# BINARY            ELL1    \n",
    "# A1             9.230780114  1         0.000000179\n",
    "# PB       12.32717119153275  1    0.00000000015598\n",
    "# TASC       55631.710921359  1         0.000000018\n",
    "# EPS1         -0.0000215485  1        0.0000000195\n",
    "# EPS2          0.0000024310  1        0.0000000128\n",
    "# SINI              0.999100  1            0.000207\n",
    "# M2                0.254144  1            0.010070\n",
    "# RNAMP         0.53630D-01\n",
    "# RNIDX            -3.42391\n",
    "# T2EFAC -f 430_ASP   1.150\n",
    "# T2EFAC -f 430_PUPPI   1.042\n",
    "# T2EFAC -f L-wide_ASP   1.073\n",
    "# T2EFAC -f L-wide_PUPPI   1.244\n",
    "# T2EQUAD -f 430_ASP   0.08167\n",
    "# T2EQUAD -f 430_PUPPI   0.51805\n",
    "# T2EQUAD -f L-wide_ASP   0.31293\n",
    "# T2EQUAD -f L-wide_PUPPI   0.01050\n",
    "# ECORR -f 430_ASP   0.00318\n",
    "# ECORR -f 430_PUPPI   1.83365\n",
    "# ECORR -f L-wide_ASP   0.83016\n",
    "# ECORR -f L-wide_PUPPI   0.25126\n",
    "# JUMP -fe L-wide      -0.000020230  1       0.000004445"
   ]
  },
  {
   "attachments": {},
   "cell_type": "markdown",
   "metadata": {},
   "source": [
    "This file contains a lot of information about the model for B1855+09.\n",
    "\n",
    "A few pieces are required in any `.par` file:\n",
    "* PSR: the pulsar's name\n",
    "* RAJ"
   ]
  },
  {
   "attachments": {},
   "cell_type": "markdown",
   "metadata": {},
   "source": [
    "## `enterprise` Pulsar objects\n",
    "\n",
    "`enterprise` can use these files to make `Pulsar` objects. These contain much of the information that the `par` and `tim` files do. More importantly, `Pulsar` objects can be used to search for gravitational waves!"
   ]
  },
  {
   "cell_type": "code",
   "execution_count": null,
   "metadata": {},
   "outputs": [],
   "source": []
  }
 ],
 "metadata": {
  "kernelspec": {
   "display_name": "rosettaprise",
   "language": "python",
   "name": "python3"
  },
  "language_info": {
   "codemirror_mode": {
    "name": "ipython",
    "version": 3
   },
   "file_extension": ".py",
   "mimetype": "text/x-python",
   "name": "python",
   "nbconvert_exporter": "python",
   "pygments_lexer": "ipython3",
   "version": "3.9.13"
  },
  "orig_nbformat": 4,
  "vscode": {
   "interpreter": {
    "hash": "258a98146d7b1fc4fd042f4c4462c9ac0b2f193510c2bf5e68563398d2b8ef68"
   }
  }
 },
 "nbformat": 4,
 "nbformat_minor": 2
}
