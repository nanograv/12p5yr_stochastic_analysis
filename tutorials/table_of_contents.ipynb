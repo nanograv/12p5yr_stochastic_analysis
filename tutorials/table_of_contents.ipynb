{
 "cells": [
  {
   "cell_type": "markdown",
   "metadata": {},
   "source": [
    "# 12.5 Year Stochastic Tutorials\n",
    "\n",
    "### by Steve Taylor, Sarah Vigeland, Joe Simon, Bence Becsy, and Aaron Johnson on behalf of the NANOGrav Collaboration"
   ]
  },
  {
   "cell_type": "markdown",
   "metadata": {},
   "source": [
    "# Table of Contents"
   ]
  },
  {
   "cell_type": "markdown",
   "metadata": {},
   "source": [
    "## Download Full 12.5 Year Stochastic Background Search Chains\n",
    "1. [Download Chains](download_full_chains.ipynb)"
   ]
  },
  {
   "cell_type": "markdown",
   "metadata": {},
   "source": [
    "## Single Pulsar Stochastic Background Search Tutorials\n",
    "1. [Single Pulsar: Verbose Version](verbose_ver.ipynb)\n",
    "2. [Single Pulsar: `enterprise_extensions` Version](extensions_ver.ipynb)"
   ]
  },
  {
   "cell_type": "markdown",
   "metadata": {},
   "source": [
    "## Before Full Searches\n",
    "\n",
    "1. Single Pulsar White Noise Searches\n",
    "2. Making Empirical Distributions for Jump Proposals"
   ]
  },
  {
   "cell_type": "markdown",
   "metadata": {},
   "source": [
    "## PTA Stochastic Background Search Tutorials\n",
    "1. [Parameter Estimation: Verbose Version](pe_verbose.ipynb)\n",
    "2. [Parameter Estimation: `enterprise_extensions` Version](pe_extensions.ipynb)\n",
    "3. [Model Selection: `model_1` vs `model_2a`](ms_1vs2a.ipynb)\n",
    "4. [Model Selection: `model_2a` vs `model_3a`](ms_2avs3a.ipynb)"
   ]
  },
  {
   "cell_type": "markdown",
   "metadata": {},
   "source": [
    "## Reproduce Figures\n",
    "1. [Reproducing 12.5 Year Stochastic Analysis Bayesian Figures](bayesian_figures.ipynb)\n",
    "2. [Frequentist Optimal Statistic and Figures](optimal_stat.ipynb)"
   ]
  }
 ],
 "metadata": {
  "kernelspec": {
   "display_name": "Python 3.7.10 64-bit ('enterprise': conda)",
   "language": "python",
   "name": "python3710jvsc74a57bd0913a1c0a8bc180c68be9ca280758699feb83bb17ca8df97de1bd02c95d5179f1"
  },
  "language_info": {
   "codemirror_mode": {
    "name": "ipython",
    "version": 3
   },
   "file_extension": ".py",
   "mimetype": "text/x-python",
   "name": "python",
   "nbconvert_exporter": "python",
   "pygments_lexer": "ipython3",
   "version": "3.9.5"
  }
 },
 "nbformat": 4,
 "nbformat_minor": 4
}
