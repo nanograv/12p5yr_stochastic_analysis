{
 "cells": [
  {
   "cell_type": "markdown",
   "source": [
    "# 12.5 Year Stochastic Tutorials\n",
    "\n",
    "### by Steve Taylor, Sarah Vigeland, Joe Simon, Bence Becsy, and Aaron Johnson on behalf of the NANOGrav Collaboration"
   ],
   "metadata": {}
  },
  {
   "cell_type": "markdown",
   "source": [
    "Note: The links in this table of contents have only been tested in jupyter lab and notebook."
   ],
   "metadata": {}
  },
  {
   "cell_type": "markdown",
   "source": [
    "# Table of Contents"
   ],
   "metadata": {}
  },
  {
   "cell_type": "markdown",
   "source": [
    "## Download Full 12.5 Year Stochastic Background Search Chains\n",
    "1. [Download Chains](nanograv_12p5yr_data/download_full_chains.ipynb)"
   ],
   "metadata": {}
  },
  {
   "cell_type": "markdown",
   "source": [
    "## Single Pulsar Stochastic Background Search Tutorials\n",
    "1. [Single Pulsar: Verbose Version](single_pulsar_gwb/verbose_ver.ipynb)\n",
    "2. [Single Pulsar: `enterprise_extensions` Version](single_pulsar_gwb/extensions_ver.ipynb)"
   ],
   "metadata": {}
  },
  {
   "cell_type": "markdown",
   "source": [
    "## PTA Stochastic Background Search Tutorials\n",
    "1. [Parameter Estimation: Verbose Version](full_pta_gwb/pe_verbose.ipynb)\n",
    "2. [Parameter Estimation: `enterprise_extensions` Version](full_pta_gwb/pe_extensions.ipynb)\n",
    "3. [Model Selection: `model_1` vs `model_2a`](full_pta_gwb/ms_1vs2a.ipynb)\n",
    "4. [Model Selection: `model_2a` vs `model_3a`](full_pta_gwb/ms_2avs3a.ipynb)\n",
    "5. [Reproducing 12.5 Year Stochastic Analysis Bayesian Figures](full_pta_gwb/bayesian_figures.ipynb)\n",
    "6. [Frequentist Optimal Statistic and Figures](full_pta_gwb/optimal_stat.ipynb)"
   ],
   "metadata": {}
  },
  {
   "cell_type": "code",
   "execution_count": null,
   "source": [],
   "outputs": [],
   "metadata": {}
  }
 ],
 "metadata": {
  "kernelspec": {
   "display_name": "Python 3.7.10 64-bit ('enterprise': conda)",
   "language": "python",
   "name": "python3710jvsc74a57bd0913a1c0a8bc180c68be9ca280758699feb83bb17ca8df97de1bd02c95d5179f1"
  },
  "language_info": {
   "codemirror_mode": {
    "name": "ipython",
    "version": 3
   },
   "file_extension": ".py",
   "mimetype": "text/x-python",
   "name": "python",
   "nbconvert_exporter": "python",
   "pygments_lexer": "ipython3",
   "version": "3.9.5"
  }
 },
 "nbformat": 4,
 "nbformat_minor": 4
}